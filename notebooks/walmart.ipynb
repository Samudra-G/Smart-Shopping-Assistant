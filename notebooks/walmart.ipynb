{
 "cells": [
  {
   "cell_type": "code",
   "execution_count": 21,
   "id": "aa19e320",
   "metadata": {},
   "outputs": [],
   "source": [
    "import pandas as pd\n",
    "import re\n",
    "from sklearn.feature_extraction.text import TfidfVectorizer\n",
    "from sklearn.metrics.pairwise import cosine_similarity"
   ]
  },
  {
   "cell_type": "code",
   "execution_count": 22,
   "id": "fd1c1f0d",
   "metadata": {},
   "outputs": [
    {
     "data": {
      "text/html": [
       "<div>\n",
       "<style scoped>\n",
       "    .dataframe tbody tr th:only-of-type {\n",
       "        vertical-align: middle;\n",
       "    }\n",
       "\n",
       "    .dataframe tbody tr th {\n",
       "        vertical-align: top;\n",
       "    }\n",
       "\n",
       "    .dataframe thead th {\n",
       "        text-align: right;\n",
       "    }\n",
       "</style>\n",
       "<table border=\"1\" class=\"dataframe\">\n",
       "  <thead>\n",
       "    <tr style=\"text-align: right;\">\n",
       "      <th></th>\n",
       "      <th>timestamp</th>\n",
       "      <th>url</th>\n",
       "      <th>final_price</th>\n",
       "      <th>sku</th>\n",
       "      <th>currency</th>\n",
       "      <th>gtin</th>\n",
       "      <th>specifications</th>\n",
       "      <th>image_urls</th>\n",
       "      <th>top_reviews</th>\n",
       "      <th>rating_stars</th>\n",
       "      <th>...</th>\n",
       "      <th>sizes</th>\n",
       "      <th>colors</th>\n",
       "      <th>seller</th>\n",
       "      <th>other_attributes</th>\n",
       "      <th>customer_reviews</th>\n",
       "      <th>ingredients</th>\n",
       "      <th>initial_price</th>\n",
       "      <th>discount</th>\n",
       "      <th>ingredients_full</th>\n",
       "      <th>categories</th>\n",
       "    </tr>\n",
       "  </thead>\n",
       "  <tbody>\n",
       "    <tr>\n",
       "      <th>0</th>\n",
       "      <td>2024-08-24 00:00:00.000</td>\n",
       "      <td>https://www.walmart.com/ip/Laura-Mercier-Cavia...</td>\n",
       "      <td>22.90</td>\n",
       "      <td>173530386</td>\n",
       "      <td>USD</td>\n",
       "      <td>7.361501e+11</td>\n",
       "      <td>[{\"name\":\"Brand\",\"value\":\"Laura Mercier\"},{\"na...</td>\n",
       "      <td>[\"https://i5.walmartimages.com/seo/Laura-Merci...</td>\n",
       "      <td>{\"negative\":{},\"positive\":{}}</td>\n",
       "      <td>{\"five_stars\":2,\"four_stars\":3,\"two_stars\":1}</td>\n",
       "      <td>...</td>\n",
       "      <td>[]</td>\n",
       "      <td>[\"Sugar Frost\",\"Tuxedo\"]</td>\n",
       "      <td>Wal███t.c███</td>\n",
       "      <td>[{\"name\":\"Instructions\",\"value\":\"Apply directl...</td>\n",
       "      <td>[{\"name\":\"Jac███\",\"rating\":5,\"review\":\"My only...</td>\n",
       "      <td>Cyclopentasiloxane, trimethylsiloxysilicate, s...</td>\n",
       "      <td>NaN</td>\n",
       "      <td>NaN</td>\n",
       "      <td>[{\"type\":\"Ingredients\",\"values\":\"Cyclopentasil...</td>\n",
       "      <td>[\"Beauty\",\"Makeup\",\"Eye Makeup\",\"Eye Shadow\",\"...</td>\n",
       "    </tr>\n",
       "    <tr>\n",
       "      <th>1</th>\n",
       "      <td>2024-08-24 00:00:00.000</td>\n",
       "      <td>https://www.walmart.com/ip/Exultantex-Grey-Bla...</td>\n",
       "      <td>47.88</td>\n",
       "      <td>430528189</td>\n",
       "      <td>USD</td>\n",
       "      <td>7.710779e+11</td>\n",
       "      <td>[{\"name\":\"Brand\",\"value\":\"Exultantex\"},{\"name\"...</td>\n",
       "      <td>[\"https://i5.walmartimages.com/seo/Exultantex-...</td>\n",
       "      <td>{\"negative\":{\"rating\":1,\"review\":\"Color not ac...</td>\n",
       "      <td>{\"five_stars\":47,\"four_stars\":4,\"one_star\":4,\"...</td>\n",
       "      <td>...</td>\n",
       "      <td>[\"50\\\" x 54\\\"\",\"50\\\" x 63\\\"\",\"50\\\" x 84\\\"\",\"50...</td>\n",
       "      <td>[\"Black\",\"Blue\",\"Green\",\"Gray\",\"Natural(Ivory)...</td>\n",
       "      <td>Exu███nte███ome███</td>\n",
       "      <td>[{\"name\":\"Fabric Care Instructions\",\"value\":\"M...</td>\n",
       "      <td>[{\"name\":\"Dana\",\"rating\":5,\"review\":\"I love th...</td>\n",
       "      <td>NaN</td>\n",
       "      <td>70.80</td>\n",
       "      <td>$22.92</td>\n",
       "      <td>NaN</td>\n",
       "      <td>[\"Home\",\"Decor\",\"Curtains &amp; Window Treatments\"...</td>\n",
       "    </tr>\n",
       "    <tr>\n",
       "      <th>2</th>\n",
       "      <td>2024-08-24 00:00:00.000</td>\n",
       "      <td>https://www.walmart.com/ip/Jessica-London-Wome...</td>\n",
       "      <td>33.24</td>\n",
       "      <td>6013308220</td>\n",
       "      <td>USD</td>\n",
       "      <td>4.651920e+11</td>\n",
       "      <td>[{\"name\":\"Features\",\"value\":\"Easy Care\"},{\"nam...</td>\n",
       "      <td>[\"https://i5.walmartimages.com/seo/Jessica-Lon...</td>\n",
       "      <td>{\"negative\":{},\"positive\":{}}</td>\n",
       "      <td>{\"five_stars\":2}</td>\n",
       "      <td>...</td>\n",
       "      <td>[\"S\",\"M\",\"L\",\"1X\",\"2X\",\"3X\"]</td>\n",
       "      <td>[\"Aqua Sea\",\"Dark Olive Green\",\"Dark Sapphire\"...</td>\n",
       "      <td>Ful███aut███ran███</td>\n",
       "      <td>[{\"name\":\"Fabric Care Instructions\",\"value\":\"M...</td>\n",
       "      <td>[{\"name\":\"Bev███y F███\",\"rating\":5,\"review\":\"V...</td>\n",
       "      <td>NaN</td>\n",
       "      <td>37.99</td>\n",
       "      <td>$4.75</td>\n",
       "      <td>NaN</td>\n",
       "      <td>[\"Clothing\",\"Womens Plus\",\"Plus Size Tops\",\"Pl...</td>\n",
       "    </tr>\n",
       "    <tr>\n",
       "      <th>3</th>\n",
       "      <td>2024-08-24 00:00:00.000</td>\n",
       "      <td>https://www.walmart.com/ip/100-Cotton-King-Per...</td>\n",
       "      <td>49.99</td>\n",
       "      <td>161657830</td>\n",
       "      <td>USD</td>\n",
       "      <td>8.407081e+11</td>\n",
       "      <td>[{\"name\":\"Brand\",\"value\":\"Simply Put\"},{\"name\"...</td>\n",
       "      <td>[\"https://i5.walmartimages.com/asr/d88fe658-b9...</td>\n",
       "      <td>{\"negative\":{\"rating\":1,\"review\":\"[This review...</td>\n",
       "      <td>{\"five_stars\":78,\"four_stars\":17,\"one_star\":2,...</td>\n",
       "      <td>...</td>\n",
       "      <td>[\"Queen\",\"King\"]</td>\n",
       "      <td>[\"Beige\",\"Blue\",\"Gray\",\"Spa Blue\"]</td>\n",
       "      <td>IC ███bal███c</td>\n",
       "      <td>[{\"name\":\"Fabric Care Instructions\",\"value\":\"M...</td>\n",
       "      <td>[{\"name\":\"Jes███oge███\",\"rating\":5,\"review\":\"[...</td>\n",
       "      <td>NaN</td>\n",
       "      <td>71.99</td>\n",
       "      <td>$22.00</td>\n",
       "      <td>NaN</td>\n",
       "      <td>[\"Home\",\"Bedding\",\"Duvet Covers\",\"King Duvet C...</td>\n",
       "    </tr>\n",
       "    <tr>\n",
       "      <th>4</th>\n",
       "      <td>2024-08-25 00:00:00.000</td>\n",
       "      <td>https://www.walmart.com/ip/Disney-Boys-Graphic...</td>\n",
       "      <td>12.99</td>\n",
       "      <td>5397071399</td>\n",
       "      <td>USD</td>\n",
       "      <td>4.600086e+11</td>\n",
       "      <td>[{\"name\":\"Country of Origin - Textiles\",\"value...</td>\n",
       "      <td>[\"https://i5.walmartimages.com/seo/Disney-Boys...</td>\n",
       "      <td>{\"negative\":{\"rating\":1,\"review\":\"This size sh...</td>\n",
       "      <td>{\"five_stars\":12,\"one_star\":1,\"three_stars\":1,...</td>\n",
       "      <td>...</td>\n",
       "      <td>[\"2T\",\"3T\",\"3T-4T\",\"3-4 Years\",\"4-5 Years\",\"4-...</td>\n",
       "      <td>[\"1#Yellow Micky\",\"2#Pink Minnie\",\"3#Blue Dona...</td>\n",
       "      <td>Pat███</td>\n",
       "      <td>NaN</td>\n",
       "      <td>[{\"name\":\"Mary\",\"rating\":5,\"review\":\"Love thes...</td>\n",
       "      <td>NaN</td>\n",
       "      <td>29.00</td>\n",
       "      <td>$16.01</td>\n",
       "      <td>NaN</td>\n",
       "      <td>[\"Clothing\",\"Kids Clothing\",\"Boys Clothing\",\"B...</td>\n",
       "    </tr>\n",
       "  </tbody>\n",
       "</table>\n",
       "<p>5 rows × 44 columns</p>\n",
       "</div>"
      ],
      "text/plain": [
       "                 timestamp                                                url  \\\n",
       "0  2024-08-24 00:00:00.000  https://www.walmart.com/ip/Laura-Mercier-Cavia...   \n",
       "1  2024-08-24 00:00:00.000  https://www.walmart.com/ip/Exultantex-Grey-Bla...   \n",
       "2  2024-08-24 00:00:00.000  https://www.walmart.com/ip/Jessica-London-Wome...   \n",
       "3  2024-08-24 00:00:00.000  https://www.walmart.com/ip/100-Cotton-King-Per...   \n",
       "4  2024-08-25 00:00:00.000  https://www.walmart.com/ip/Disney-Boys-Graphic...   \n",
       "\n",
       "   final_price         sku currency          gtin  \\\n",
       "0        22.90   173530386      USD  7.361501e+11   \n",
       "1        47.88   430528189      USD  7.710779e+11   \n",
       "2        33.24  6013308220      USD  4.651920e+11   \n",
       "3        49.99   161657830      USD  8.407081e+11   \n",
       "4        12.99  5397071399      USD  4.600086e+11   \n",
       "\n",
       "                                      specifications  \\\n",
       "0  [{\"name\":\"Brand\",\"value\":\"Laura Mercier\"},{\"na...   \n",
       "1  [{\"name\":\"Brand\",\"value\":\"Exultantex\"},{\"name\"...   \n",
       "2  [{\"name\":\"Features\",\"value\":\"Easy Care\"},{\"nam...   \n",
       "3  [{\"name\":\"Brand\",\"value\":\"Simply Put\"},{\"name\"...   \n",
       "4  [{\"name\":\"Country of Origin - Textiles\",\"value...   \n",
       "\n",
       "                                          image_urls  \\\n",
       "0  [\"https://i5.walmartimages.com/seo/Laura-Merci...   \n",
       "1  [\"https://i5.walmartimages.com/seo/Exultantex-...   \n",
       "2  [\"https://i5.walmartimages.com/seo/Jessica-Lon...   \n",
       "3  [\"https://i5.walmartimages.com/asr/d88fe658-b9...   \n",
       "4  [\"https://i5.walmartimages.com/seo/Disney-Boys...   \n",
       "\n",
       "                                         top_reviews  \\\n",
       "0                      {\"negative\":{},\"positive\":{}}   \n",
       "1  {\"negative\":{\"rating\":1,\"review\":\"Color not ac...   \n",
       "2                      {\"negative\":{},\"positive\":{}}   \n",
       "3  {\"negative\":{\"rating\":1,\"review\":\"[This review...   \n",
       "4  {\"negative\":{\"rating\":1,\"review\":\"This size sh...   \n",
       "\n",
       "                                        rating_stars  ...  \\\n",
       "0      {\"five_stars\":2,\"four_stars\":3,\"two_stars\":1}  ...   \n",
       "1  {\"five_stars\":47,\"four_stars\":4,\"one_star\":4,\"...  ...   \n",
       "2                                   {\"five_stars\":2}  ...   \n",
       "3  {\"five_stars\":78,\"four_stars\":17,\"one_star\":2,...  ...   \n",
       "4  {\"five_stars\":12,\"one_star\":1,\"three_stars\":1,...  ...   \n",
       "\n",
       "                                               sizes  \\\n",
       "0                                                 []   \n",
       "1  [\"50\\\" x 54\\\"\",\"50\\\" x 63\\\"\",\"50\\\" x 84\\\"\",\"50...   \n",
       "2                       [\"S\",\"M\",\"L\",\"1X\",\"2X\",\"3X\"]   \n",
       "3                                   [\"Queen\",\"King\"]   \n",
       "4  [\"2T\",\"3T\",\"3T-4T\",\"3-4 Years\",\"4-5 Years\",\"4-...   \n",
       "\n",
       "                                              colors              seller  \\\n",
       "0                           [\"Sugar Frost\",\"Tuxedo\"]        Wal███t.c███   \n",
       "1  [\"Black\",\"Blue\",\"Green\",\"Gray\",\"Natural(Ivory)...  Exu███nte███ome███   \n",
       "2  [\"Aqua Sea\",\"Dark Olive Green\",\"Dark Sapphire\"...  Ful███aut███ran███   \n",
       "3                 [\"Beige\",\"Blue\",\"Gray\",\"Spa Blue\"]       IC ███bal███c   \n",
       "4  [\"1#Yellow Micky\",\"2#Pink Minnie\",\"3#Blue Dona...              Pat███   \n",
       "\n",
       "                                    other_attributes  \\\n",
       "0  [{\"name\":\"Instructions\",\"value\":\"Apply directl...   \n",
       "1  [{\"name\":\"Fabric Care Instructions\",\"value\":\"M...   \n",
       "2  [{\"name\":\"Fabric Care Instructions\",\"value\":\"M...   \n",
       "3  [{\"name\":\"Fabric Care Instructions\",\"value\":\"M...   \n",
       "4                                                NaN   \n",
       "\n",
       "                                    customer_reviews  \\\n",
       "0  [{\"name\":\"Jac███\",\"rating\":5,\"review\":\"My only...   \n",
       "1  [{\"name\":\"Dana\",\"rating\":5,\"review\":\"I love th...   \n",
       "2  [{\"name\":\"Bev███y F███\",\"rating\":5,\"review\":\"V...   \n",
       "3  [{\"name\":\"Jes███oge███\",\"rating\":5,\"review\":\"[...   \n",
       "4  [{\"name\":\"Mary\",\"rating\":5,\"review\":\"Love thes...   \n",
       "\n",
       "                                         ingredients  initial_price discount  \\\n",
       "0  Cyclopentasiloxane, trimethylsiloxysilicate, s...            NaN      NaN   \n",
       "1                                                NaN          70.80   $22.92   \n",
       "2                                                NaN          37.99    $4.75   \n",
       "3                                                NaN          71.99   $22.00   \n",
       "4                                                NaN          29.00   $16.01   \n",
       "\n",
       "                                    ingredients_full  \\\n",
       "0  [{\"type\":\"Ingredients\",\"values\":\"Cyclopentasil...   \n",
       "1                                                NaN   \n",
       "2                                                NaN   \n",
       "3                                                NaN   \n",
       "4                                                NaN   \n",
       "\n",
       "                                          categories  \n",
       "0  [\"Beauty\",\"Makeup\",\"Eye Makeup\",\"Eye Shadow\",\"...  \n",
       "1  [\"Home\",\"Decor\",\"Curtains & Window Treatments\"...  \n",
       "2  [\"Clothing\",\"Womens Plus\",\"Plus Size Tops\",\"Pl...  \n",
       "3  [\"Home\",\"Bedding\",\"Duvet Covers\",\"King Duvet C...  \n",
       "4  [\"Clothing\",\"Kids Clothing\",\"Boys Clothing\",\"B...  \n",
       "\n",
       "[5 rows x 44 columns]"
      ]
     },
     "execution_count": 22,
     "metadata": {},
     "output_type": "execute_result"
    }
   ],
   "source": [
    "data = pd.read_csv('C:/Users/User/Downloads/walmart-products.csv')\n",
    "data.head()"
   ]
  },
  {
   "cell_type": "markdown",
   "id": "61c1f1df",
   "metadata": {},
   "source": [
    "### Basic Info"
   ]
  },
  {
   "cell_type": "code",
   "execution_count": 23,
   "id": "af5e0de9",
   "metadata": {},
   "outputs": [
    {
     "data": {
      "text/plain": [
       "Index(['timestamp', 'url', 'final_price', 'sku', 'currency', 'gtin',\n",
       "       'specifications', 'image_urls', 'top_reviews', 'rating_stars',\n",
       "       'related_pages', 'available_for_delivery', 'available_for_pickup',\n",
       "       'brand', 'breadcrumbs', 'category_ids', 'review_count', 'description',\n",
       "       'product_id', 'product_name', 'review_tags', 'category_url',\n",
       "       'category_name', 'category_path', 'root_category_url',\n",
       "       'root_category_name', 'upc', 'tags', 'main_image', 'rating',\n",
       "       'unit_price', 'unit', 'aisle', 'free_returns', 'sizes', 'colors',\n",
       "       'seller', 'other_attributes', 'customer_reviews', 'ingredients',\n",
       "       'initial_price', 'discount', 'ingredients_full', 'categories'],\n",
       "      dtype='object')"
      ]
     },
     "execution_count": 23,
     "metadata": {},
     "output_type": "execute_result"
    }
   ],
   "source": [
    "data.columns"
   ]
  },
  {
   "cell_type": "code",
   "execution_count": 24,
   "id": "aace8ba7",
   "metadata": {},
   "outputs": [
    {
     "name": "stdout",
     "output_type": "stream",
     "text": [
      "<class 'pandas.core.frame.DataFrame'>\n",
      "RangeIndex: 1000 entries, 0 to 999\n",
      "Data columns (total 44 columns):\n",
      " #   Column                  Non-Null Count  Dtype  \n",
      "---  ------                  --------------  -----  \n",
      " 0   timestamp               1000 non-null   object \n",
      " 1   url                     1000 non-null   object \n",
      " 2   final_price             1000 non-null   float64\n",
      " 3   sku                     1000 non-null   int64  \n",
      " 4   currency                1000 non-null   object \n",
      " 5   gtin                    999 non-null    float64\n",
      " 6   specifications          1000 non-null   object \n",
      " 7   image_urls              1000 non-null   object \n",
      " 8   top_reviews             1000 non-null   object \n",
      " 9   rating_stars            1000 non-null   object \n",
      " 10  related_pages           991 non-null    object \n",
      " 11  available_for_delivery  1000 non-null   bool   \n",
      " 12  available_for_pickup    1000 non-null   bool   \n",
      " 13  brand                   1000 non-null   object \n",
      " 14  breadcrumbs             1000 non-null   object \n",
      " 15  category_ids            1000 non-null   object \n",
      " 16  review_count            1000 non-null   int64  \n",
      " 17  description             999 non-null    object \n",
      " 18  product_id              1000 non-null   int64  \n",
      " 19  product_name            1000 non-null   object \n",
      " 20  review_tags             1000 non-null   object \n",
      " 21  category_url            1000 non-null   object \n",
      " 22  category_name           1000 non-null   object \n",
      " 23  category_path           1000 non-null   object \n",
      " 24  root_category_url       1000 non-null   object \n",
      " 25  root_category_name      1000 non-null   object \n",
      " 26  upc                     999 non-null    float64\n",
      " 27  tags                    787 non-null    object \n",
      " 28  main_image              1000 non-null   object \n",
      " 29  rating                  1000 non-null   float64\n",
      " 30  unit_price              101 non-null    float64\n",
      " 31  unit                    101 non-null    object \n",
      " 32  aisle                   50 non-null     object \n",
      " 33  free_returns            975 non-null    object \n",
      " 34  sizes                   1000 non-null   object \n",
      " 35  colors                  1000 non-null   object \n",
      " 36  seller                  1000 non-null   object \n",
      " 37  other_attributes        877 non-null    object \n",
      " 38  customer_reviews        1000 non-null   object \n",
      " 39  ingredients             114 non-null    object \n",
      " 40  initial_price           898 non-null    float64\n",
      " 41  discount                898 non-null    object \n",
      " 42  ingredients_full        114 non-null    object \n",
      " 43  categories              1000 non-null   object \n",
      "dtypes: bool(2), float64(6), int64(3), object(33)\n",
      "memory usage: 330.2+ KB\n"
     ]
    }
   ],
   "source": [
    "data.info()"
   ]
  },
  {
   "cell_type": "code",
   "execution_count": 25,
   "id": "7623af1c",
   "metadata": {},
   "outputs": [
    {
     "data": {
      "text/html": [
       "<div>\n",
       "<style scoped>\n",
       "    .dataframe tbody tr th:only-of-type {\n",
       "        vertical-align: middle;\n",
       "    }\n",
       "\n",
       "    .dataframe tbody tr th {\n",
       "        vertical-align: top;\n",
       "    }\n",
       "\n",
       "    .dataframe thead th {\n",
       "        text-align: right;\n",
       "    }\n",
       "</style>\n",
       "<table border=\"1\" class=\"dataframe\">\n",
       "  <thead>\n",
       "    <tr style=\"text-align: right;\">\n",
       "      <th></th>\n",
       "      <th>final_price</th>\n",
       "      <th>sku</th>\n",
       "      <th>gtin</th>\n",
       "      <th>review_count</th>\n",
       "      <th>product_id</th>\n",
       "      <th>upc</th>\n",
       "      <th>rating</th>\n",
       "      <th>unit_price</th>\n",
       "      <th>initial_price</th>\n",
       "    </tr>\n",
       "  </thead>\n",
       "  <tbody>\n",
       "    <tr>\n",
       "      <th>count</th>\n",
       "      <td>1000.00000</td>\n",
       "      <td>1.000000e+03</td>\n",
       "      <td>9.990000e+02</td>\n",
       "      <td>1000.000000</td>\n",
       "      <td>1.000000e+03</td>\n",
       "      <td>9.990000e+02</td>\n",
       "      <td>1000.000000</td>\n",
       "      <td>101.000000</td>\n",
       "      <td>898.000000</td>\n",
       "    </tr>\n",
       "    <tr>\n",
       "      <th>mean</th>\n",
       "      <td>37.98634</td>\n",
       "      <td>2.203601e+09</td>\n",
       "      <td>5.786768e+11</td>\n",
       "      <td>465.027000</td>\n",
       "      <td>2.203601e+09</td>\n",
       "      <td>5.786768e+11</td>\n",
       "      <td>4.338800</td>\n",
       "      <td>12.234287</td>\n",
       "      <td>61.535278</td>\n",
       "    </tr>\n",
       "    <tr>\n",
       "      <th>std</th>\n",
       "      <td>97.48094</td>\n",
       "      <td>1.987681e+09</td>\n",
       "      <td>2.640686e+11</td>\n",
       "      <td>2049.842999</td>\n",
       "      <td>1.987681e+09</td>\n",
       "      <td>2.640686e+11</td>\n",
       "      <td>0.703825</td>\n",
       "      <td>30.482208</td>\n",
       "      <td>165.317442</td>\n",
       "    </tr>\n",
       "    <tr>\n",
       "      <th>min</th>\n",
       "      <td>0.91000</td>\n",
       "      <td>1.029102e+07</td>\n",
       "      <td>1.111102e+10</td>\n",
       "      <td>1.000000</td>\n",
       "      <td>1.029102e+07</td>\n",
       "      <td>1.111102e+10</td>\n",
       "      <td>1.000000</td>\n",
       "      <td>0.083000</td>\n",
       "      <td>1.580000</td>\n",
       "    </tr>\n",
       "    <tr>\n",
       "      <th>25%</th>\n",
       "      <td>13.96000</td>\n",
       "      <td>5.576833e+08</td>\n",
       "      <td>4.620225e+11</td>\n",
       "      <td>9.000000</td>\n",
       "      <td>5.576833e+08</td>\n",
       "      <td>4.620225e+11</td>\n",
       "      <td>4.200000</td>\n",
       "      <td>0.624000</td>\n",
       "      <td>19.990000</td>\n",
       "    </tr>\n",
       "    <tr>\n",
       "      <th>50%</th>\n",
       "      <td>19.99000</td>\n",
       "      <td>1.446916e+09</td>\n",
       "      <td>7.024018e+11</td>\n",
       "      <td>47.000000</td>\n",
       "      <td>1.446916e+09</td>\n",
       "      <td>7.024018e+11</td>\n",
       "      <td>4.500000</td>\n",
       "      <td>1.810000</td>\n",
       "      <td>33.590000</td>\n",
       "    </tr>\n",
       "    <tr>\n",
       "      <th>75%</th>\n",
       "      <td>35.97000</td>\n",
       "      <td>3.769058e+09</td>\n",
       "      <td>7.651449e+11</td>\n",
       "      <td>206.500000</td>\n",
       "      <td>3.769058e+09</td>\n",
       "      <td>7.651449e+11</td>\n",
       "      <td>4.700000</td>\n",
       "      <td>10.500000</td>\n",
       "      <td>55.000000</td>\n",
       "    </tr>\n",
       "    <tr>\n",
       "      <th>max</th>\n",
       "      <td>1685.99000</td>\n",
       "      <td>6.925859e+09</td>\n",
       "      <td>9.931881e+11</td>\n",
       "      <td>43691.000000</td>\n",
       "      <td>6.925859e+09</td>\n",
       "      <td>9.931881e+11</td>\n",
       "      <td>5.000000</td>\n",
       "      <td>199.250000</td>\n",
       "      <td>2629.990000</td>\n",
       "    </tr>\n",
       "  </tbody>\n",
       "</table>\n",
       "</div>"
      ],
      "text/plain": [
       "       final_price           sku          gtin  review_count    product_id  \\\n",
       "count   1000.00000  1.000000e+03  9.990000e+02   1000.000000  1.000000e+03   \n",
       "mean      37.98634  2.203601e+09  5.786768e+11    465.027000  2.203601e+09   \n",
       "std       97.48094  1.987681e+09  2.640686e+11   2049.842999  1.987681e+09   \n",
       "min        0.91000  1.029102e+07  1.111102e+10      1.000000  1.029102e+07   \n",
       "25%       13.96000  5.576833e+08  4.620225e+11      9.000000  5.576833e+08   \n",
       "50%       19.99000  1.446916e+09  7.024018e+11     47.000000  1.446916e+09   \n",
       "75%       35.97000  3.769058e+09  7.651449e+11    206.500000  3.769058e+09   \n",
       "max     1685.99000  6.925859e+09  9.931881e+11  43691.000000  6.925859e+09   \n",
       "\n",
       "                upc       rating  unit_price  initial_price  \n",
       "count  9.990000e+02  1000.000000  101.000000     898.000000  \n",
       "mean   5.786768e+11     4.338800   12.234287      61.535278  \n",
       "std    2.640686e+11     0.703825   30.482208     165.317442  \n",
       "min    1.111102e+10     1.000000    0.083000       1.580000  \n",
       "25%    4.620225e+11     4.200000    0.624000      19.990000  \n",
       "50%    7.024018e+11     4.500000    1.810000      33.590000  \n",
       "75%    7.651449e+11     4.700000   10.500000      55.000000  \n",
       "max    9.931881e+11     5.000000  199.250000    2629.990000  "
      ]
     },
     "execution_count": 25,
     "metadata": {},
     "output_type": "execute_result"
    }
   ],
   "source": [
    "data.describe()"
   ]
  },
  {
   "cell_type": "code",
   "execution_count": 26,
   "id": "c1224552",
   "metadata": {},
   "outputs": [
    {
     "data": {
      "text/plain": [
       "timestamp                   0\n",
       "url                         0\n",
       "final_price                 0\n",
       "sku                         0\n",
       "currency                    0\n",
       "gtin                        1\n",
       "specifications              0\n",
       "image_urls                  0\n",
       "top_reviews                 0\n",
       "rating_stars                0\n",
       "related_pages               9\n",
       "available_for_delivery      0\n",
       "available_for_pickup        0\n",
       "brand                       0\n",
       "breadcrumbs                 0\n",
       "category_ids                0\n",
       "review_count                0\n",
       "description                 1\n",
       "product_id                  0\n",
       "product_name                0\n",
       "review_tags                 0\n",
       "category_url                0\n",
       "category_name               0\n",
       "category_path               0\n",
       "root_category_url           0\n",
       "root_category_name          0\n",
       "upc                         1\n",
       "tags                      213\n",
       "main_image                  0\n",
       "rating                      0\n",
       "unit_price                899\n",
       "unit                      899\n",
       "aisle                     950\n",
       "free_returns               25\n",
       "sizes                       0\n",
       "colors                      0\n",
       "seller                      0\n",
       "other_attributes          123\n",
       "customer_reviews            0\n",
       "ingredients               886\n",
       "initial_price             102\n",
       "discount                  102\n",
       "ingredients_full          886\n",
       "categories                  0\n",
       "dtype: int64"
      ]
     },
     "execution_count": 26,
     "metadata": {},
     "output_type": "execute_result"
    }
   ],
   "source": [
    "data.isnull().sum()"
   ]
  },
  {
   "cell_type": "code",
   "execution_count": 27,
   "id": "e2fa35c2",
   "metadata": {},
   "outputs": [
    {
     "data": {
      "text/plain": [
       "968"
      ]
     },
     "execution_count": 27,
     "metadata": {},
     "output_type": "execute_result"
    }
   ],
   "source": [
    "data['product_name'].nunique()"
   ]
  },
  {
   "cell_type": "code",
   "execution_count": 28,
   "id": "f676b014",
   "metadata": {},
   "outputs": [
    {
     "data": {
      "text/plain": [
       "category_name\n",
       "Plus Size Tops            33\n",
       "Shop Curtains             26\n",
       "Cooling Sheets            20\n",
       "Colored Sheets            17\n",
       "Womens Blouses            17\n",
       "                          ..\n",
       "Blackout Curtains          1\n",
       "Native Deodorant           1\n",
       "Football Pants             1\n",
       "Mens Regular Fit Jeans     1\n",
       "Retractable baby gates     1\n",
       "Name: count, Length: 452, dtype: int64"
      ]
     },
     "execution_count": 28,
     "metadata": {},
     "output_type": "execute_result"
    }
   ],
   "source": [
    "data['category_name'].value_counts()"
   ]
  },
  {
   "cell_type": "markdown",
   "id": "31ffd786",
   "metadata": {},
   "source": [
    "### Identify essential columns"
   ]
  },
  {
   "cell_type": "code",
   "execution_count": 29,
   "id": "62b3036b",
   "metadata": {},
   "outputs": [
    {
     "data": {
      "text/plain": [
       "dtype('O')"
      ]
     },
     "execution_count": 29,
     "metadata": {},
     "output_type": "execute_result"
    }
   ],
   "source": [
    "if 'product_name' in data.columns:\n",
    "    name_column = 'product_name'\n",
    "elif 'name' in data.columns:\n",
    "    name_column = 'name'\n",
    "else:\n",
    "    name_column = data.select_dtypes(include=['object']).columns[0]\n",
    "\n",
    "data[name_column].dtype\n"
   ]
  },
  {
   "cell_type": "code",
   "execution_count": 30,
   "id": "fc5e895c",
   "metadata": {},
   "outputs": [],
   "source": [
    "if 'product_description' in data.columns:\n",
    "    description_column = 'product_description'\n",
    "elif 'description' in data.columns:\n",
    "    description_column = 'description'\n",
    "else:\n",
    "    description_column = data.select_dtypes(include=['object']).columns[1]"
   ]
  },
  {
   "cell_type": "markdown",
   "id": "d65592c2",
   "metadata": {},
   "source": [
    "### Cleaning Text"
   ]
  },
  {
   "cell_type": "code",
   "execution_count": 31,
   "id": "43d99b09",
   "metadata": {},
   "outputs": [],
   "source": [
    "# A function to clean the text data and use regex to remove unwanted characters\n",
    "def clean_text(text):\n",
    "    if pd.isnull(text):\n",
    "        return \"\"\n",
    "    text = text.lower()\n",
    "    text = re.sub(r'[^\\w\\s]', '', text)\n",
    "    return text.strip()"
   ]
  },
  {
   "cell_type": "code",
   "execution_count": 32,
   "id": "312d0987",
   "metadata": {},
   "outputs": [],
   "source": [
    "data['cleaned_desc'] = data[description_column].apply(clean_text)"
   ]
  },
  {
   "cell_type": "markdown",
   "id": "08c54764",
   "metadata": {},
   "source": [
    "### Using TFIDFVectorizer"
   ]
  },
  {
   "cell_type": "code",
   "execution_count": 33,
   "id": "46489201",
   "metadata": {},
   "outputs": [
    {
     "data": {
      "text/plain": [
       "(1000, 10000)"
      ]
     },
     "execution_count": 33,
     "metadata": {},
     "output_type": "execute_result"
    }
   ],
   "source": [
    "tfidf = TfidfVectorizer(stop_words='english', max_features=10000)\n",
    "tfidf_matrix = tfidf.fit_transform(data['cleaned_desc'])\n",
    "tfidf_matrix.shape"
   ]
  },
  {
   "cell_type": "code",
   "execution_count": 34,
   "id": "be426bec",
   "metadata": {},
   "outputs": [
    {
     "data": {
      "text/plain": [
       "(1000, 1000)"
      ]
     },
     "execution_count": 34,
     "metadata": {},
     "output_type": "execute_result"
    }
   ],
   "source": [
    "cosine_sim = cosine_similarity(tfidf_matrix, tfidf_matrix)\n",
    "cosine_sim.shape"
   ]
  },
  {
   "cell_type": "code",
   "execution_count": 35,
   "id": "6496fc8e",
   "metadata": {},
   "outputs": [],
   "source": [
    "indices = pd.Series(data.index, index=data[name_column].astype(str).str.lower()).drop_duplicates()"
   ]
  },
  {
   "cell_type": "code",
   "execution_count": 37,
   "id": "dfcb9fe7",
   "metadata": {},
   "outputs": [],
   "source": [
    "#Recommendation function\n",
    "def recommend_product(product_name, no_of_recommendations=5):\n",
    "    key = product_name.lower()\n",
    "    if key not in indices:\n",
    "        return f\"'{product_name}' not found in product list.\"\n",
    "    idx = indices[key]\n",
    "    sim_scores = list(enumerate(cosine_sim[idx]))\n",
    "    sim_scores = sorted(sim_scores, key=lambda x: x[1], reverse=True)[1:no_of_recommendations+1]\n",
    "    product_indices = [i[0] for i in sim_scores]\n",
    "    return data.iloc[product_indices][[name_column, description_column]]\n"
   ]
  },
  {
   "cell_type": "code",
   "execution_count": 38,
   "id": "a38da7a8",
   "metadata": {},
   "outputs": [
    {
     "name": "stdout",
     "output_type": "stream",
     "text": [
      "Sample Product: Laura Mercier Caviar Stick Eye Color Sugar Frost 1.64g/0.05oz\n",
      "Recommendations:                                           product_name  \\\n",
      "928       NYX Jumbo Eye Pencil (Color : #610 - Oyster)   \n",
      "396  Pretty Smart Celebrity Artist Eyeshadow Palett...   \n",
      "215  Badger Kids Sunscreen Stick SPF 35 with Minera...   \n",
      "26   Anastasia Beverly Hills Norvina PRO Pigment Ey...   \n",
      "5    Women's Vanity Fair 75201 Nearly Invisible Ful...   \n",
      "\n",
      "                                           description  \n",
      "928  What it is: A radiant eye liner that also doub...  \n",
      "396  Pretty Smart offers high-quality, luxury inspi...  \n",
      "215     SAFE EFFECTIVE PROTECTION: Protect your chi...  \n",
      "26   Anastasia Beverly Hills ABH Norvina Pro Pigmen...  \n",
      "5       Amazing comfort in this seamless T-shirt br...  \n"
     ]
    }
   ],
   "source": [
    "#Usage :\n",
    "sample_product = data[name_column].iloc[0]\n",
    "print(f\"Sample Product: {sample_product}\")\n",
    "recommendations = recommend_product(sample_product, 5)\n",
    "print(f\"Recommendations: {recommendations}\")"
   ]
  },
  {
   "cell_type": "markdown",
   "id": "8265df6c",
   "metadata": {},
   "source": [
    "### Saving the model"
   ]
  },
  {
   "cell_type": "code",
   "execution_count": 39,
   "id": "e727ce41",
   "metadata": {},
   "outputs": [
    {
     "name": "stdout",
     "output_type": "stream",
     "text": [
      "Model and data saved successfully.\n"
     ]
    }
   ],
   "source": [
    "import joblib\n",
    "joblib.dump(tfidf, 'tfidf_model.pkl')\n",
    "joblib.dump(tfidf_matrix, 'tfidf_matrix.pkl')\n",
    "data.to_csv('walmart_products_cleaned.csv', index=False)\n",
    "print(\"Model and data saved successfully.\")"
   ]
  },
  {
   "cell_type": "code",
   "execution_count": null,
   "id": "a9519920",
   "metadata": {},
   "outputs": [],
   "source": []
  }
 ],
 "metadata": {
  "kernelspec": {
   "display_name": "Python 3",
   "language": "python",
   "name": "python3"
  },
  "language_info": {
   "codemirror_mode": {
    "name": "ipython",
    "version": 3
   },
   "file_extension": ".py",
   "mimetype": "text/x-python",
   "name": "python",
   "nbconvert_exporter": "python",
   "pygments_lexer": "ipython3",
   "version": "3.11.9"
  }
 },
 "nbformat": 4,
 "nbformat_minor": 5
}
